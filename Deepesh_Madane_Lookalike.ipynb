{
  "nbformat": 4,
  "nbformat_minor": 0,
  "metadata": {
    "colab": {
      "provenance": [],
      "gpuType": "T4"
    },
    "kernelspec": {
      "name": "python3",
      "display_name": "Python 3"
    },
    "language_info": {
      "name": "python"
    },
    "accelerator": "GPU"
  },
  "cells": [
    {
      "cell_type": "code",
      "execution_count": 6,
      "metadata": {
        "id": "PaO_7oWJ90R7"
      },
      "outputs": [],
      "source": [
        "import pandas as pd\n",
        "import numpy as np\n",
        "import matplotlib.pyplot as plt\n",
        "import seaborn as sns\n",
        "import warnings\n",
        "warnings.filterwarnings('ignore')"
      ]
    },
    {
      "cell_type": "code",
      "source": [
        "data_products = pd.read_csv('Products.csv')\n",
        "data_transactions = pd.read_csv('Transactions.csv')"
      ],
      "metadata": {
        "id": "WEjsMnr_-J97"
      },
      "execution_count": 7,
      "outputs": []
    },
    {
      "cell_type": "code",
      "source": [
        "data_customers = pd.read_csv('Customers.csv')"
      ],
      "metadata": {
        "id": "Oa6KQak2-L6U"
      },
      "execution_count": 8,
      "outputs": []
    },
    {
      "cell_type": "code",
      "source": [
        "from sklearn.preprocessing import StandardScaler\n",
        "from sklearn.metrics.pairwise import cosine_similarity\n",
        "\n",
        "\n",
        "merged_data = pd.merge(data_transactions, data_customers, on='CustomerID')\n",
        "\n",
        "# Feature engineering: Aggregate customer features\n",
        "customer_features = merged_data.groupby('CustomerID').agg({\n",
        "    'TotalValue': 'sum',  # Total spending\n",
        "    'TransactionID': 'count',  # Number of transactions\n",
        "    'TransactionDate': lambda x: (pd.to_datetime('today') - pd.to_datetime(x.max())).days  # Recency\n",
        "}).reset_index()\n",
        "\n",
        "# Rename columns for clarity\n",
        "customer_features.columns = ['CustomerID', 'TotalSpent', 'TransactionCount', 'Recency']\n",
        "\n",
        "# Merge with product data to include product information\n",
        "product_sales = merged_data.groupby('CustomerID').agg({\n",
        "    'ProductID': 'nunique',  # Number of unique products purchased\n",
        "}).reset_index()\n",
        "\n",
        "product_sales.columns = ['CustomerID', 'UniqueProducts']\n",
        "\n",
        "# Combine customer features with product information\n",
        "customer_features = pd.merge(customer_features, product_sales, on='CustomerID')\n",
        "\n",
        "# Standardize features for similarity calculation\n",
        "scaler = StandardScaler()\n",
        "scaled_features = scaler.fit_transform(customer_features[['TotalSpent', 'TransactionCount', 'Recency', 'UniqueProducts']])\n",
        "\n",
        "# Calculate cosine similarity\n",
        "similarity_matrix = cosine_similarity(scaled_features)\n",
        "\n",
        "# Generate lookalike recommendations\n",
        "lookalikes = {}\n",
        "for idx, customer_id in enumerate(customer_features['CustomerID']):\n",
        "    similar_indices = similarity_matrix[idx].argsort()[-4:-1][::-1]  # Get top 3 similar customers\n",
        "    similar_customers = customer_features['CustomerID'].iloc[similar_indices].tolist()\n",
        "    scores = similarity_matrix[idx][similar_indices].tolist()\n",
        "    lookalikes[customer_id] = list(zip(similar_customers, scores))\n",
        "\n",
        "# Convert to DataFrame\n",
        "lookalike_list = []\n",
        "for cust_id, similar in lookalikes.items():\n",
        "    for similar_cust, score in similar:\n",
        "        lookalike_list.append([cust_id, similar_cust, score])\n",
        "\n",
        "lookalike_df = pd.DataFrame(lookalike_list, columns=['CustomerID', 'LookalikeID', 'SimilarityScore'])\n",
        "\n",
        "# Filter for the first 20 customers (C0001 to C0020)\n",
        "lookalike_df_filtered = lookalike_df[lookalike_df['CustomerID'].isin([f'C{str(i).zfill(4)}' for i in range(1, 21)])]\n",
        "\n",
        "# Save to CSV\n",
        "lookalike_df_filtered.to_csv('Lookalike.csv', index=False)\n",
        "\n",
        "print(\"Lookalike recommendations saved to 'Lookalike.csv'.\")"
      ],
      "metadata": {
        "colab": {
          "base_uri": "https://localhost:8080/"
        },
        "id": "iqhOhUQU-Owx",
        "outputId": "076359a1-da5d-4c32-a920-5da25fcc48ff"
      },
      "execution_count": 11,
      "outputs": [
        {
          "output_type": "stream",
          "name": "stdout",
          "text": [
            "Lookalike recommendations saved to 'Lookalike.csv'.\n"
          ]
        }
      ]
    },
    {
      "cell_type": "code",
      "source": [],
      "metadata": {
        "id": "KclaGg1--cVE"
      },
      "execution_count": 9,
      "outputs": []
    }
  ]
}